{
 "cells": [
  {
   "cell_type": "code",
   "execution_count": 1,
   "metadata": {},
   "outputs": [],
   "source": [
    "from pathlib import Path\n",
    "import numpy as np\n",
    "import matplotlib.pyplot as plt\n",
    "from tqdm.notebook import tqdm\n",
    "\n",
    "from utils import (\n",
    "    load_example,\n",
    "    HealthChecker,\n",
    "    plot_array,\n",
    "    show_beats,\n",
    "    isolate_beats,\n",
    "    get_beats,\n",
    "    plot_beats,\n",
    "    flatten,\n",
    "    normalize,\n",
    ")\n",
    "\n",
    "%matplotlib widget"
   ]
  },
  {
   "cell_type": "code",
   "execution_count": 2,
   "metadata": {},
   "outputs": [],
   "source": [
    "data_folder = \"/home/edent/Projects/Demos/ECG-Classification-CNN/data/physionet.org/files/ptbdb/1.0.0/\"\n",
    "\n",
    "paths = list(Path(data_folder).rglob('*.hea'))\n",
    "    \n",
    "test_data, test_info = load_example(paths[0])"
   ]
  },
  {
   "cell_type": "code",
   "execution_count": 3,
   "metadata": {},
   "outputs": [
    {
     "data": {
      "application/vnd.jupyter.widget-view+json": {
       "model_id": "80ffb7796978493c8aedb9f491f2baaf",
       "version_major": 2,
       "version_minor": 0
      },
      "text/plain": [
       "Canvas(toolbar=Toolbar(toolitems=[('Home', 'Reset original view', 'home', 'home'), ('Back', 'Back to previous …"
      ]
     },
     "metadata": {},
     "output_type": "display_data"
    }
   ],
   "source": [
    "if 'fig' in locals():\n",
    "    plt.close(fig)\n",
    "fig = plot_array(test_data[:10000, ...], title='Sample plot of 15 lead ECG data'.title())"
   ]
  },
  {
   "cell_type": "code",
   "execution_count": 4,
   "metadata": {},
   "outputs": [
    {
     "data": {
      "application/vnd.jupyter.widget-view+json": {
       "model_id": "7ae12aaed8c14b5d8166e1041ac2ca9a",
       "version_major": 2,
       "version_minor": 0
      },
      "text/plain": [
       "Canvas(toolbar=Toolbar(toolitems=[('Home', 'Reset original view', 'home', 'home'), ('Back', 'Back to previous …"
      ]
     },
     "metadata": {},
     "output_type": "display_data"
    }
   ],
   "source": [
    "x = test_data[:int(1e4), ...]\n",
    "if 'ffig' in locals():\n",
    "    plt.close(ffig)\n",
    "ffig = plot_array(x, c='b', title=\"Sample plot of 15 lead ECG data with flattened data (green)\".title())\n",
    "fx = flatten(x)\n",
    "for i, ax in enumerate(ffig.axes):\n",
    "    ax.plot(range(fx.shape[0]), fx[:, i], c='forestgreen')\n",
    "ffig.show()"
   ]
  },
  {
   "cell_type": "code",
   "execution_count": 10,
   "metadata": {},
   "outputs": [
    {
     "data": {
      "application/vnd.jupyter.widget-view+json": {
       "model_id": "ebef0494419e412992930dc5fb9e3288",
       "version_major": 2,
       "version_minor": 0
      },
      "text/plain": [
       "Canvas(toolbar=Toolbar(toolitems=[('Home', 'Reset original view', 'home', 'home'), ('Back', 'Back to previous …"
      ]
     },
     "metadata": {},
     "output_type": "display_data"
    }
   ],
   "source": [
    "n = int(1e4)\n",
    "x = show_beats(test_data[:n,...], 50)\n",
    "if 'fig1' in locals():\n",
    "    plt.close(fig1)\n",
    "fig1, ax = plt.subplots(figsize=(15, 5))\n",
    "ax.plot(range(n), x[:n], label='Aggregated Processed Data')\n",
    "ax.hlines(x.ptp()/3, 0, n, color='g', label=\"Lower Bound for Peak\")\n",
    "ymin, ymax = ax.get_ylim()\n",
    "for i, peak in enumerate(isolate_beats(x[:n])):\n",
    "    ax.vlines(peak, ymin, ymax, colors='r', label='Identified Peak' if i == 0 else None)\n",
    "ax.margins(x=0)\n",
    "ax.set_title(\"Located peaks and identifiers\".title())\n",
    "ax.legend()\n",
    "fig1.tight_layout()\n",
    "fig1.show()"
   ]
  },
  {
   "cell_type": "code",
   "execution_count": 11,
   "metadata": {},
   "outputs": [
    {
     "data": {
      "application/vnd.jupyter.widget-view+json": {
       "model_id": "93a4a7e3784148d8a0a82d5887e97e07",
       "version_major": 2,
       "version_minor": 0
      },
      "text/plain": [
       "Canvas(toolbar=Toolbar(toolitems=[('Home', 'Reset original view', 'home', 'home'), ('Back', 'Back to previous …"
      ]
     },
     "metadata": {},
     "output_type": "display_data"
    }
   ],
   "source": [
    "if 'fig2' in locals():\n",
    "    plt.close(fig2)\n",
    "plot_data = test_data#[:10000, ...]\n",
    "fig2 = plot_beats(plot_data)\n",
    "fig2.show()"
   ]
  },
  {
   "cell_type": "markdown",
   "metadata": {},
   "source": [
    "## Investigate Best Padding\n",
    "It appears we've discovered a suitable way of isolating the peaks. We want to take a snapshot of each peak as a sample and add some padding on either side. We'll investigate the spacing between peaks and decide on the best strategy."
   ]
  },
  {
   "cell_type": "code",
   "execution_count": 12,
   "metadata": {},
   "outputs": [],
   "source": [
    "def period_stats(paths):\n",
    "    period_sum, n_periods = 0, 0\n",
    "    period_min = np.inf\n",
    "    period_max = 0\n",
    "    for path in tqdm(paths, leave=False):\n",
    "        data = load_example(path)[0]\n",
    "        beats = get_beats(data)\n",
    "        diffs = np.diff(beats)\n",
    "        period_min = min(period_min, diffs.min())\n",
    "        period_max = max(period_max, diffs.max())\n",
    "        period_sum += diffs.sum()\n",
    "        n_periods += len(diffs)\n",
    "    return period_min, period_max, period_sum/n_periods"
   ]
  },
  {
   "cell_type": "code",
   "execution_count": 16,
   "metadata": {},
   "outputs": [
    {
     "data": {
      "application/vnd.jupyter.widget-view+json": {
       "model_id": "121959add8284ee7bc5d8398b674d496",
       "version_major": 2,
       "version_minor": 0
      },
      "text/plain": [
       "Canvas(toolbar=Toolbar(toolitems=[('Home', 'Reset original view', 'home', 'home'), ('Back', 'Back to previous …"
      ]
     },
     "metadata": {},
     "output_type": "display_data"
    }
   ],
   "source": [
    "data = load_example(paths[505])[0]\n",
    "\n",
    "if 'tfig' in locals():\n",
    "    plt.close(tfig)\n",
    "tfig = plot_beats(data)"
   ]
  },
  {
   "cell_type": "code",
   "execution_count": 17,
   "metadata": {},
   "outputs": [
    {
     "data": {
      "application/vnd.jupyter.widget-view+json": {
       "model_id": "",
       "version_major": 2,
       "version_minor": 0
      },
      "text/plain": [
       "HBox(children=(FloatProgress(value=0.0, max=549.0), HTML(value='')))"
      ]
     },
     "metadata": {},
     "output_type": "display_data"
    }
   ],
   "source": [
    "mins, maxs, means = period_stats(paths)"
   ]
  },
  {
   "cell_type": "code",
   "execution_count": 18,
   "metadata": {},
   "outputs": [
    {
     "data": {
      "text/plain": [
       "(100, 9508, 743.4597841247503)"
      ]
     },
     "execution_count": 18,
     "metadata": {},
     "output_type": "execute_result"
    }
   ],
   "source": [
    "mins, maxs, means"
   ]
  }
 ],
 "metadata": {
  "kernelspec": {
   "display_name": "Python 3",
   "language": "python",
   "name": "python3"
  },
  "language_info": {
   "codemirror_mode": {
    "name": "ipython",
    "version": 3
   },
   "file_extension": ".py",
   "mimetype": "text/x-python",
   "name": "python",
   "nbconvert_exporter": "python",
   "pygments_lexer": "ipython3",
   "version": "3.7.7"
  }
 },
 "nbformat": 4,
 "nbformat_minor": 4
}
